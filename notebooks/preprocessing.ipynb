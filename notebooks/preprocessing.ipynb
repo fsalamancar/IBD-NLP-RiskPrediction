{
 "cells": [
  {
   "cell_type": "markdown",
   "id": "559c9245",
   "metadata": {},
   "source": [
    "# Notebook para preprocesar los datos provenientes de Reddit y Twitter"
   ]
  },
  {
   "cell_type": "code",
   "execution_count": 4,
   "id": "530104ee",
   "metadata": {},
   "outputs": [],
   "source": [
    "import pandas as pd\n",
    "import numpy as npç\n",
    "import os"
   ]
  },
  {
   "cell_type": "code",
   "execution_count": 7,
   "id": "c1148414",
   "metadata": {},
   "outputs": [],
   "source": [
    "IBD_estructured = pd.read_csv('../data/interim/IBD_estructured_text.csv')"
   ]
  },
  {
   "cell_type": "code",
   "execution_count": 8,
   "id": "ba5377ec",
   "metadata": {},
   "outputs": [
    {
     "name": "stdout",
     "output_type": "stream",
     "text": [
      "TÍTULO:\n",
      "Don't be afraid of diagnostic procedures....\n",
      "\n",
      "CONTENIDO:\n",
      "I'm not likely to frontpage this subreddit, but I'm glad it exists. \n",
      "\n",
      "I did, however, want to be of some reassurance to people who are afraid of needles or going in for a colonoscopy. \n",
      "\n",
      "Now, I'm pretty young, I don't like needles, and I don't like hospitals. But, all of my dislikes combined aside, I had to spend 3 days in a foreign hospital this week getting tested for what I was afraid was going to be ulcerative colitis (what I understand to be simliar to Crohns disease). My mother has this condition, and the GI problem that brought me to the hospital had me really worried.\n",
      "\n",
      "Anyway, I had to have a colonoscopy done. It was *not* a horrific experience. The worst part of the procedure, by far, is having to prep for it by drinking a TON (4 liters) of laxative-laced water and clearing out your entire GI tract before the procedure. That part isn't pleasant. For the procedure itself, they have you under IV sedation that makes you either completely forget what happened or very very unaware. I did not remember any pain or discomfort whatsoever.\n",
      "\n",
      "So, if you feel you need to be tested, or you're reaching the age (40s-50s) where you need to start getting tested regularly, do not be afraid. It's a very doable outpatient procedure.\n",
      "\n",
      "(Didn't mean to make this a cliffhanger: everything was OK in my case - just acute inflammation, possibly caused by a virus or consuming too much coffee, which I am definitely capable of.)\n",
      "\n",
      "COMENTARIOS:\n",
      "- I have to agree, the worse part of a Colonoscopy IS the prep. Glad everything was ok in your case. Thanks for posting.\n",
      "- Agreed, the prep is awful.  Post-colonoscopy is a breeze, though you've gotta control your appetite a bit, eating too quickly afterwards has led me into some unfortunate circumstances in the past.\n",
      "- [deleted]\n",
      "- [deleted]\n",
      "- Sorry to hear you had such a shitty experience (pardon the pun, if there was one to be had...).\n",
      "- I had 4 colonoscopies this year alone.  I was part of the study for the drug Ustekinumab.  The worst part was most def the prep.\n"
     ]
    }
   ],
   "source": [
    "# Ver algunos ejemplos\n",
    "print(IBD_estructured['cuerpo'].iloc[0])"
   ]
  }
 ],
 "metadata": {
  "kernelspec": {
   "display_name": ".venv",
   "language": "python",
   "name": "python3"
  },
  "language_info": {
   "codemirror_mode": {
    "name": "ipython",
    "version": 3
   },
   "file_extension": ".py",
   "mimetype": "text/x-python",
   "name": "python",
   "nbconvert_exporter": "python",
   "pygments_lexer": "ipython3",
   "version": "3.13.7"
  }
 },
 "nbformat": 4,
 "nbformat_minor": 5
}
