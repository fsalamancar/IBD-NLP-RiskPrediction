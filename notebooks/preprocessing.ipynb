{
 "cells": [
  {
   "cell_type": "markdown",
   "id": "559c9245",
   "metadata": {},
   "source": [
    "# Notebook para preprocesar los datos provenientes de Reddit y Twitter"
   ]
  },
  {
   "cell_type": "code",
   "execution_count": null,
   "id": "b53f2b37",
   "metadata": {},
   "outputs": [],
   "source": [
    "# Comienza con la master table, IBD_complete_dataset.csv\n",
    "\n",
    "\n"
   ]
  }
 ],
 "metadata": {
  "kernelspec": {
   "display_name": ".venv",
   "language": "python",
   "name": "python3"
  },
  "language_info": {
   "codemirror_mode": {
    "name": "ipython",
    "version": 3
   },
   "file_extension": ".py",
   "mimetype": "text/x-python",
   "name": "python",
   "nbconvert_exporter": "python",
   "pygments_lexer": "ipython3",
   "version": "3.13.7"
  }
 },
 "nbformat": 4,
 "nbformat_minor": 5
}
