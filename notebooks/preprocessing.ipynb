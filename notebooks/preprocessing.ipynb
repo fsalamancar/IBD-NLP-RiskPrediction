{
 "cells": [
  {
   "cell_type": "markdown",
   "id": "559c9245",
   "metadata": {},
   "source": [
    "# Notebook para preprocesar los datos provenientes de Reddit y Twitter"
   ]
  },
  {
   "cell_type": "code",
   "execution_count": null,
   "id": "530104ee",
   "metadata": {},
   "outputs": [],
   "source": [
    "import pandas as pd\n",
    "import numpy as np\n",
    "import os"
   ]
  },
  {
   "cell_type": "code",
   "execution_count": 9,
   "id": "70b935fa",
   "metadata": {},
   "outputs": [
    {
     "data": {
      "application/vnd.microsoft.datawrangler.viewer.v0+json": {
       "columns": [
        {
         "name": "index",
         "rawType": "int64",
         "type": "integer"
        },
        {
         "name": "id",
         "rawType": "object",
         "type": "string"
        },
        {
         "name": "subreddit",
         "rawType": "object",
         "type": "string"
        },
        {
         "name": "author",
         "rawType": "object",
         "type": "string"
        },
        {
         "name": "title",
         "rawType": "object",
         "type": "string"
        },
        {
         "name": "selftext",
         "rawType": "object",
         "type": "string"
        },
        {
         "name": "created_utc",
         "rawType": "object",
         "type": "string"
        },
        {
         "name": "comments",
         "rawType": "object",
         "type": "string"
        },
        {
         "name": "cuerpo",
         "rawType": "object",
         "type": "string"
        }
       ],
       "ref": "8ac7ed86-7915-41fa-a282-9c98f788969b",
       "rows": [
        [
         "0",
         "dflwn",
         "CrohnsDisease",
         "zakool21",
         "Don't be afraid of diagnostic procedures....",
         "I'm not likely to frontpage this subreddit, but I'm glad it exists. \n\nI did, however, want to be of some reassurance to people who are afraid of needles or going in for a colonoscopy. \n\nNow, I'm pretty young, I don't like needles, and I don't like hospitals. But, all of my dislikes combined aside, I had to spend 3 days in a foreign hospital this week getting tested for what I was afraid was going to be ulcerative colitis (what I understand to be simliar to Crohns disease). My mother has this condition, and the GI problem that brought me to the hospital had me really worried.\n\nAnyway, I had to have a colonoscopy done. It was *not* a horrific experience. The worst part of the procedure, by far, is having to prep for it by drinking a TON (4 liters) of laxative-laced water and clearing out your entire GI tract before the procedure. That part isn't pleasant. For the procedure itself, they have you under IV sedation that makes you either completely forget what happened or very very unaware. I did not remember any pain or discomfort whatsoever.\n\nSo, if you feel you need to be tested, or you're reaching the age (40s-50s) where you need to start getting tested regularly, do not be afraid. It's a very doable outpatient procedure.\n\n(Didn't mean to make this a cliffhanger: everything was OK in my case - just acute inflammation, possibly caused by a virus or consuming too much coffee, which I am definitely capable of.)",
         "2010-09-18 11:59:11",
         "['I have to agree, the worse part of a Colonoscopy IS the prep. Glad everything was ok in your case. Thanks for posting.', \"Agreed, the prep is awful.  Post-colonoscopy is a breeze, though you've gotta control your appetite a bit, eating too quickly afterwards has led me into some unfortunate circumstances in the past.\", '[deleted]', '[deleted]', 'Sorry to hear you had such a shitty experience (pardon the pun, if there was one to be had...).', 'I had 4 colonoscopies this year alone.  I was part of the study for the drug Ustekinumab.  The worst part was most def the prep.']",
         "TÍTULO:\nDon't be afraid of diagnostic procedures....\n\nCONTENIDO:\nI'm not likely to frontpage this subreddit, but I'm glad it exists. \n\nI did, however, want to be of some reassurance to people who are afraid of needles or going in for a colonoscopy. \n\nNow, I'm pretty young, I don't like needles, and I don't like hospitals. But, all of my dislikes combined aside, I had to spend 3 days in a foreign hospital this week getting tested for what I was afraid was going to be ulcerative colitis (what I understand to be simliar to Crohns disease). My mother has this condition, and the GI problem that brought me to the hospital had me really worried.\n\nAnyway, I had to have a colonoscopy done. It was *not* a horrific experience. The worst part of the procedure, by far, is having to prep for it by drinking a TON (4 liters) of laxative-laced water and clearing out your entire GI tract before the procedure. That part isn't pleasant. For the procedure itself, they have you under IV sedation that makes you either completely forget what happened or very very unaware. I did not remember any pain or discomfort whatsoever.\n\nSo, if you feel you need to be tested, or you're reaching the age (40s-50s) where you need to start getting tested regularly, do not be afraid. It's a very doable outpatient procedure.\n\n(Didn't mean to make this a cliffhanger: everything was OK in my case - just acute inflammation, possibly caused by a virus or consuming too much coffee, which I am definitely capable of.)\n\nCOMENTARIOS:\n- I have to agree, the worse part of a Colonoscopy IS the prep. Glad everything was ok in your case. Thanks for posting.\n- Agreed, the prep is awful.  Post-colonoscopy is a breeze, though you've gotta control your appetite a bit, eating too quickly afterwards has led me into some unfortunate circumstances in the past.\n- [deleted]\n- [deleted]\n- Sorry to hear you had such a shitty experience (pardon the pun, if there was one to be had...).\n- I had 4 colonoscopies this year alone.  I was part of the study for the drug Ustekinumab.  The worst part was most def the prep."
        ],
        [
         "1",
         "dfyy1",
         "CrohnsDisease",
         "sphinctersayzwha",
         "Mayo Clinic article on Crohn's Disease.",
         "Mayo Clinic article on Crohn's Disease.",
         "2010-09-19 15:11:21",
         "[]",
         "TÍTULO:\nMayo Clinic article on Crohn's Disease.\n\nCONTENIDO:\nMayo Clinic article on Crohn's Disease."
        ],
        [
         "2",
         "dfz1m",
         "CrohnsDisease",
         "WeDeserveDessert",
         "Has anyone else here taken Remicade?  What did you think of it?  Did it help?",
         "Has anyone else here taken Remicade?  What did you think of it?  Did it help?",
         "2010-09-19 15:19:54",
         "[\"Remicade (and a bypass) changed my life.  While it eventually decreased in effectiveness, it initially killed all signs of the disease, and returned my life to normal for years.  After the efficacy dropped, my doctor switched me to Humira, which works the same way as Remicade, but is a self-injectable instead of an infusion, and it's fully humanized so it's harder for your immune system to start attacking it.\\n\\nI would highly recommend it to anyone with active Crohn's.\", \"I would be living a horrible, uncomfortable excuse for a life if I never was put on Remicade. It *literally* saved my life at a time where my Crohn's was so bad, any time I wasn't in bed I was on the toilet. I'd take a once-every-six-week infusion over close to 40 pills a day *any* day. \", \"Remicade worked wonderfully for me for about three years, but I eventually became unresponsive to it. The infusions were annoying, but the IV Benadryl and ensuing nap made it worth it. I never had any reactions or bad infections, for what it's worth.\\n\\nI've since switched to Humira. Two years ago, my doctor and I thought Humira was losing its punch, so I switched to something else, and my health declined. Doc told me there's a chance to restart Humira and have it work. After about six weeks, it seems to have (knock on wood).\\n\\nThe potential side effects of these are seriously worrisome, but given the pain I was in and the weight I'd lost, it's been worth it for me.\", \"Thanks so much for your opinions, I think I'm going to try it.  I have a pretty bad blockage and may need a bypass if this blockage doesn't work out.\", \"I was on remicade for about six months and it really didn't help me much. Once I switched to Humira injections 40mg X 1 a week, I went into remission for a while. Long story short, no insurance, got sick again. Back to the shots.\", \"A question for yourself and anyone else who lost the effect of Remicade... Were you taking it along with Imuran? I'm on both and was told the Imuran keeps the body from fighting the Remicade.\", \"I was not.  I was one of the very first pediatric cases to be put on Remicade, so I wouldn't be surprised if they've improved the regimen since then.\", \"You know that Humira has a protection plan right? I didn't have insurance for a few months and they sent me the meds for free in the mail. Now that I have insurance, they still help me out a little with the co-pay, which can get really high. Not sure if they would cover 1x a week though.\\n\\nEdit: I probably misunderstood your post, not sure if you want to get back on Humira or Remicade. Anyway, I'll leave the info up there for others.\", 'I had 7 infusions of Remicade back when it was brand new.  The first 6 infusions worked perfectly, and I was feeling great.  During the 7th infusion, I somehow became allergic to it, and had to have an IV push of Benadryl.  To be honest, I wish I was back on Remicade because it worked so well for me.', 'Remicade is extremely helpful, the drug has worked wonders for me. I was on it for about 3 or 4 years. The only thing I didnt like about it was that the infusions were once every eight weeks, and pretty much took the majority of my day. I have since switched to Humira, and that is working just as well, if not better. ']",
         "TÍTULO:\nHas anyone else here taken Remicade?  What did you think of it?  Did it help?\n\nCONTENIDO:\nHas anyone else here taken Remicade?  What did you think of it?  Did it help?\n\nCOMENTARIOS:\n- Remicade (and a bypass) changed my life.  While it eventually decreased in effectiveness, it initially killed all signs of the disease, and returned my life to normal for years.  After the efficacy dropped, my doctor switched me to Humira, which works the same way as Remicade, but is a self-injectable instead of an infusion, and it's fully humanized so it's harder for your immune system to start attacking it.\n\nI would highly recommend it to anyone with active Crohn's.\n- I would be living a horrible, uncomfortable excuse for a life if I never was put on Remicade. It *literally* saved my life at a time where my Crohn's was so bad, any time I wasn't in bed I was on the toilet. I'd take a once-every-six-week infusion over close to 40 pills a day *any* day.\n- Remicade worked wonderfully for me for about three years, but I eventually became unresponsive to it. The infusions were annoying, but the IV Benadryl and ensuing nap made it worth it. I never had any reactions or bad infections, for what it's worth.\n\nI've since switched to Humira. Two years ago, my doctor and I thought Humira was losing its punch, so I switched to something else, and my health declined. Doc told me there's a chance to restart Humira and have it work. After about six weeks, it s...\n- Thanks so much for your opinions, I think I'm going to try it.  I have a pretty bad blockage and may need a bypass if this blockage doesn't work out.\n- I was on remicade for about six months and it really didn't help me much. Once I switched to Humira injections 40mg X 1 a week, I went into remission for a while. Long story short, no insurance, got sick again. Back to the shots.\n- A question for yourself and anyone else who lost the effect of Remicade... Were you taking it along with Imuran? I'm on both and was told the Imuran keeps the body from fighting the Remicade.\n- I was not.  I was one of the very first pediatric cases to be put on Remicade, so I wouldn't be surprised if they've improved the regimen since then.\n- You know that Humira has a protection plan right? I didn't have insurance for a few months and they sent me the meds for free in the mail. Now that I have insurance, they still help me out a little with the co-pay, which can get really high. Not sure if they would cover 1x a week though.\n\nEdit: I probably misunderstood your post, not sure if you want to get back on Humira or Remicade. Anyway, I'll leave the info up there for others.\n- I had 7 infusions of Remicade back when it was brand new.  The first 6 infusions worked perfectly, and I was feeling great.  During the 7th infusion, I somehow became allergic to it, and had to have an IV push of Benadryl.  To be honest, I wish I was back on Remicade because it worked so well for me.\n- Remicade is extremely helpful, the drug has worked wonders for me. I was on it for about 3 or 4 years. The only thing I didnt like about it was that the infusions were once every eight weeks, and pretty much took the majority of my day. I have since switched to Humira, and that is working just as well, if not better."
        ],
        [
         "3",
         "dh6zd",
         "CrohnsDisease",
         "RosenTurd",
         "I was Diagnosed With Crohns Disease at age 9 ,Now 28yo and Ive been though most of it... AMA....",
         "Like the title Says AMA",
         "2010-09-22 04:50:57",
         "[\"My son was diagnosed at ten. It's hell for him, the colonoscopies and the hospital visits and the dietary problems he has.\\n\\nHow bad is it now, having been through it for all these years? Do you have anything I could tell my son to make it easier for him, or to encourage him?\", '\\nall those years leading up to my diagnosis was a trying time for me... and I can bet you are just learning the ropes...\\n\\nafter countless doctors and hundreds of \"Ideas\" of what My true ailment was, we finally got the answer.... Crohns\\n\\nDealing with the pain will come in many forms for your son,.. I can attest to that... and in the end it will define who your son really is as an adult...\\n\\nHe needs to know that Crohns will be with him in some form or another for the rest of his life.  Something I wish  I would of known back then...\\n\\nFor starters.. never get mad...  Trust me... You will get to the point where you just don\\'t know how to deal with his situation anymore..\\nTake a deep breath a step back or what ever you need to do to keep all focus on him...  a Smile and a hug goes a very long way no matter how many time it is repeated in a 10 min period....\\n\\nUnderstand he will get angry... Explain to him that its ok to have these emotions... but at the same time encourage him to always see the brighter side of it all\\n\\nAlways tell him it will be all right.. even when you haven\\'t had sleep for 36 hours and he has a procedure at 430am.. \\n\\nNever let him have a night in the hospital alone .. ever.. I cannot stress that enough...\\n\\nAlways make sure you involve him is all decisions for his future  I.E\\nif there is a procedure that needs to be done.. Make sure he understand what is going on... explain why and what the outcome will and  could be.... \\n\\nmake sure your doctor is a kind and gentle person... because let me tell you... being woken up at 534am to a room full of Med students with a feeding tube sticking out of your nose is not a fun time at all...\\n\\nGet him involved in as many things as possible...  what ever he is into right now and stick with it....  sports, Movies, Reading,  Video games, car races, painting, boy scouts, video editing, what ever can keep the mind occupied...\\n\\nAlways make sure his outlook on things is a good one no matter what he is expecting in the next few hours...\\n\\nNever make him wait for the restroom..... if you have to drive 120mph and face getting a ticket.. it is always better then the humiliation of shitting himself ...\\n\\nAll of that is just the tip of the iceberg my friend...\\n\\nIf I can be of any more help to you please call me... I insist on it... Even if it is 4am\\n\\nShit Id even drive out to where ever you are located and talk to him sometime if he ever had any questions of his own....Obviously he can call me as well...\\n\\nNever give up and always know, that it will get better for you son....\\n\\nRobR-\\n\\n\\n', \"I wasn't diagnosed until I was 20, you were diagnosed at 9? Amazing.\\r\\n\\r\\nHave you ever had any surgeries?  I'm due to get a small bowel resectioning and I'm super-scared.\", 'had a 18 inch bowel resection  on aug 11th 1999   ....was the best thing I had ever done... \\n\\n\\nBest advice I an give you is... Do not Sneeze...', '[deleted]', 'Thanks for the link - some interesting things to try there.', \"I've heard the SCD really only works if you completely adhere to it. Did you cheat at all?\", \"I was diagnosed at 17, currently 19 and just started university. Do you have any general life advice?\\nEDIT: I have currently am diagnosed with 'indeterminate colitis' having had a colonoscopy a year and a half ago.\", 'honestly I got lucky after my resection... I eat what ever I want... I still have issues from time to time... but I no longer have flairs', '[deleted]', \"Was diagnosed 10 years ago (at age 10) and was prescribed Pentasa (Mesalamine) and Purinethol (6MP); I have experienced only a couple of flare ups since then.  Never tried remicade since I hate any sort of IV medication (unless dire) but, just due to laziness and general dislike for pills (6mp also takes a heavy toll on your immune system) I stopped taking my meds about 3-4 years ago - nothing happened for a while, until  I had a flare up a couple years ago and, coincidentally, I started smoking ganja not too long after then - been in remission since and I still don't take my pills, lol  Not sure if this helps but just my two cents.  \"]",
         "TÍTULO:\nI was Diagnosed With Crohns Disease at age 9 ,Now 28yo and Ive been though most of it... AMA....\n\nCONTENIDO:\nLike the title Says AMA\n\nCOMENTARIOS:\n- My son was diagnosed at ten. It's hell for him, the colonoscopies and the hospital visits and the dietary problems he has.\n\nHow bad is it now, having been through it for all these years? Do you have anything I could tell my son to make it easier for him, or to encourage him?\n- all those years leading up to my diagnosis was a trying time for me... and I can bet you are just learning the ropes...\n\nafter countless doctors and hundreds of \"Ideas\" of what My true ailment was, we finally got the answer.... Crohns\n\nDealing with the pain will come in many forms for your son,.. I can attest to that... and in the end it will define who your son really is as an adult...\n\nHe needs to know that Crohns will be with him in some form or another for the rest of his life.  Something I ...\n- I wasn't diagnosed until I was 20, you were diagnosed at 9? Amazing.\r\n\r\nHave you ever had any surgeries?  I'm due to get a small bowel resectioning and I'm super-scared.\n- had a 18 inch bowel resection  on aug 11th 1999   ....was the best thing I had ever done... \n\n\nBest advice I an give you is... Do not Sneeze...\n- [deleted]\n- Thanks for the link - some interesting things to try there.\n- I've heard the SCD really only works if you completely adhere to it. Did you cheat at all?\n- I was diagnosed at 17, currently 19 and just started university. Do you have any general life advice?\nEDIT: I have currently am diagnosed with 'indeterminate colitis' having had a colonoscopy a year and a half ago.\n- honestly I got lucky after my resection... I eat what ever I want... I still have issues from time to time... but I no longer have flairs\n- [deleted]\n- Was diagnosed 10 years ago (at age 10) and was prescribed Pentasa (Mesalamine) and Purinethol (6MP); I have experienced only a couple of flare ups since then.  Never tried remicade since I hate any sort of IV medication (unless dire) but, just due to laziness and general dislike for pills (6mp also takes a heavy toll on your immune system) I stopped taking my meds about 3-4 years ago - nothing happened for a while, until  I had a flare up a couple years ago and, coincidentally, I started smoking..."
        ],
        [
         "4",
         "dhgot",
         "CrohnsDisease",
         "unknownpleasures",
         "Has anyone here had to have bowel surgery more than once?",
         "I had a small bowel resection and appendectomy about 6 years ago.  It looks like another area of my small intestine is blocked again, and I may need surgery.\r\n** Anyone have anything to share?  How was the pain compared to your first surgery?  Do you think it was beneficial? **",
         "2010-09-22 18:31:36",
         "[\"I have a story:\\n\\nI had a small bowel resection/appendectomy (all done laparoscopically) at the beginning of last year due to narrowing/stenosis. I was in the hospital for a week. Following that, everything was wonderful for 9 months or so.\\n\\nCrohn's started acting up again at the beginning of this year, and so to reevaluate the situation, my GI wanted a colonoscopy. He ended up perforating my bowel during it! That called for emergency resection surgery to remove the perforated section of the bowel. This time, though, it had to be open surgery. Again, in the hospital for a week. And things have been good since then. The difference now is I'm on Humira; before I was on Remicade.\\n\\nSo to compare laparoscope vs open: I really didn't feel much difference. They say open is a little harder to recover from, and I'd say maybe that's true as far incision pain lasting slightly longer. But the worst part with open surgery is I had to get staples. And getting those friggin things out hurts like a mofo.\\n\\nTL;DL - I had two surgeries within a year, and there really wasn't a problem. You have 6 years (potentially) between yours, so I say you have nothing to worry about. Keep us updated on how it goes!\"]",
         "TÍTULO:\nHas anyone here had to have bowel surgery more than once?\n\nCONTENIDO:\nI had a small bowel resection and appendectomy about 6 years ago.  It looks like another area of my small intestine is blocked again, and I may need surgery.\r\n** Anyone have anything to share?  How was the pain compared to your first surgery?  Do you think it was beneficial? **\n\nCOMENTARIOS:\n- I have a story:\n\nI had a small bowel resection/appendectomy (all done laparoscopically) at the beginning of last year due to narrowing/stenosis. I was in the hospital for a week. Following that, everything was wonderful for 9 months or so.\n\nCrohn's started acting up again at the beginning of this year, and so to reevaluate the situation, my GI wanted a colonoscopy. He ended up perforating my bowel during it! That called for emergency resection surgery to remove the perforated section of the bowe..."
        ]
       ],
       "shape": {
        "columns": 8,
        "rows": 5
       }
      },
      "text/html": [
       "<div>\n",
       "<style scoped>\n",
       "    .dataframe tbody tr th:only-of-type {\n",
       "        vertical-align: middle;\n",
       "    }\n",
       "\n",
       "    .dataframe tbody tr th {\n",
       "        vertical-align: top;\n",
       "    }\n",
       "\n",
       "    .dataframe thead th {\n",
       "        text-align: right;\n",
       "    }\n",
       "</style>\n",
       "<table border=\"1\" class=\"dataframe\">\n",
       "  <thead>\n",
       "    <tr style=\"text-align: right;\">\n",
       "      <th></th>\n",
       "      <th>id</th>\n",
       "      <th>subreddit</th>\n",
       "      <th>author</th>\n",
       "      <th>title</th>\n",
       "      <th>selftext</th>\n",
       "      <th>created_utc</th>\n",
       "      <th>comments</th>\n",
       "      <th>cuerpo</th>\n",
       "    </tr>\n",
       "  </thead>\n",
       "  <tbody>\n",
       "    <tr>\n",
       "      <th>0</th>\n",
       "      <td>dflwn</td>\n",
       "      <td>CrohnsDisease</td>\n",
       "      <td>zakool21</td>\n",
       "      <td>Don't be afraid of diagnostic procedures....</td>\n",
       "      <td>I'm not likely to frontpage this subreddit, bu...</td>\n",
       "      <td>2010-09-18 11:59:11</td>\n",
       "      <td>['I have to agree, the worse part of a Colonos...</td>\n",
       "      <td>TÍTULO:\\nDon't be afraid of diagnostic procedu...</td>\n",
       "    </tr>\n",
       "    <tr>\n",
       "      <th>1</th>\n",
       "      <td>dfyy1</td>\n",
       "      <td>CrohnsDisease</td>\n",
       "      <td>sphinctersayzwha</td>\n",
       "      <td>Mayo Clinic article on Crohn's Disease.</td>\n",
       "      <td>Mayo Clinic article on Crohn's Disease.</td>\n",
       "      <td>2010-09-19 15:11:21</td>\n",
       "      <td>[]</td>\n",
       "      <td>TÍTULO:\\nMayo Clinic article on Crohn's Diseas...</td>\n",
       "    </tr>\n",
       "    <tr>\n",
       "      <th>2</th>\n",
       "      <td>dfz1m</td>\n",
       "      <td>CrohnsDisease</td>\n",
       "      <td>WeDeserveDessert</td>\n",
       "      <td>Has anyone else here taken Remicade?  What did...</td>\n",
       "      <td>Has anyone else here taken Remicade?  What did...</td>\n",
       "      <td>2010-09-19 15:19:54</td>\n",
       "      <td>[\"Remicade (and a bypass) changed my life.  Wh...</td>\n",
       "      <td>TÍTULO:\\nHas anyone else here taken Remicade? ...</td>\n",
       "    </tr>\n",
       "    <tr>\n",
       "      <th>3</th>\n",
       "      <td>dh6zd</td>\n",
       "      <td>CrohnsDisease</td>\n",
       "      <td>RosenTurd</td>\n",
       "      <td>I was Diagnosed With Crohns Disease at age 9 ,...</td>\n",
       "      <td>Like the title Says AMA</td>\n",
       "      <td>2010-09-22 04:50:57</td>\n",
       "      <td>[\"My son was diagnosed at ten. It's hell for h...</td>\n",
       "      <td>TÍTULO:\\nI was Diagnosed With Crohns Disease a...</td>\n",
       "    </tr>\n",
       "    <tr>\n",
       "      <th>4</th>\n",
       "      <td>dhgot</td>\n",
       "      <td>CrohnsDisease</td>\n",
       "      <td>unknownpleasures</td>\n",
       "      <td>Has anyone here had to have bowel surgery more...</td>\n",
       "      <td>I had a small bowel resection and appendectomy...</td>\n",
       "      <td>2010-09-22 18:31:36</td>\n",
       "      <td>[\"I have a story:\\n\\nI had a small bowel resec...</td>\n",
       "      <td>TÍTULO:\\nHas anyone here had to have bowel sur...</td>\n",
       "    </tr>\n",
       "  </tbody>\n",
       "</table>\n",
       "</div>"
      ],
      "text/plain": [
       "      id      subreddit            author  \\\n",
       "0  dflwn  CrohnsDisease          zakool21   \n",
       "1  dfyy1  CrohnsDisease  sphinctersayzwha   \n",
       "2  dfz1m  CrohnsDisease  WeDeserveDessert   \n",
       "3  dh6zd  CrohnsDisease         RosenTurd   \n",
       "4  dhgot  CrohnsDisease  unknownpleasures   \n",
       "\n",
       "                                               title  \\\n",
       "0       Don't be afraid of diagnostic procedures....   \n",
       "1            Mayo Clinic article on Crohn's Disease.   \n",
       "2  Has anyone else here taken Remicade?  What did...   \n",
       "3  I was Diagnosed With Crohns Disease at age 9 ,...   \n",
       "4  Has anyone here had to have bowel surgery more...   \n",
       "\n",
       "                                            selftext          created_utc  \\\n",
       "0  I'm not likely to frontpage this subreddit, bu...  2010-09-18 11:59:11   \n",
       "1            Mayo Clinic article on Crohn's Disease.  2010-09-19 15:11:21   \n",
       "2  Has anyone else here taken Remicade?  What did...  2010-09-19 15:19:54   \n",
       "3                            Like the title Says AMA  2010-09-22 04:50:57   \n",
       "4  I had a small bowel resection and appendectomy...  2010-09-22 18:31:36   \n",
       "\n",
       "                                            comments  \\\n",
       "0  ['I have to agree, the worse part of a Colonos...   \n",
       "1                                                 []   \n",
       "2  [\"Remicade (and a bypass) changed my life.  Wh...   \n",
       "3  [\"My son was diagnosed at ten. It's hell for h...   \n",
       "4  [\"I have a story:\\n\\nI had a small bowel resec...   \n",
       "\n",
       "                                              cuerpo  \n",
       "0  TÍTULO:\\nDon't be afraid of diagnostic procedu...  \n",
       "1  TÍTULO:\\nMayo Clinic article on Crohn's Diseas...  \n",
       "2  TÍTULO:\\nHas anyone else here taken Remicade? ...  \n",
       "3  TÍTULO:\\nI was Diagnosed With Crohns Disease a...  \n",
       "4  TÍTULO:\\nHas anyone here had to have bowel sur...  "
      ]
     },
     "execution_count": 9,
     "metadata": {},
     "output_type": "execute_result"
    }
   ],
   "source": [
    "IBD_estructured = pd.read_csv('../data/interim/IBD_estructured_text.csv')\n",
    "IBD_estructured.head()\n"
   ]
  },
  {
   "cell_type": "code",
   "execution_count": 10,
   "id": "ba5377ec",
   "metadata": {},
   "outputs": [
    {
     "name": "stdout",
     "output_type": "stream",
     "text": [
      "TÍTULO:\n",
      "Does anyone with UC have a testimonial about nicotine helping their cause?\n",
      "\n",
      "CONTENIDO:\n",
      "I'd post this in the Ulcerative Colitis subreddit but it seems that nobody frequents there and we all collectively come here. Anyway, I've been on the patch for about 3 weeks off and on and at first I thought I had some improvement but I feel like it's starting to fizzle out, but it could be just another flare. Has anyone had any luck or known of anyone who has had luck using nicotine?\n",
      "\n",
      "COMENTARIOS:\n",
      "- Cant comment on nicotine but thc REALLY helped my crohns\n",
      "- I've read a few articles about the effects that smoking has on Crohn's Disease.  My husband was diagnosed a few years ago and smoked for just over 10 years.  With Crohn's it's often considered to be a contributing or risk factor and it also exacerbates the symptoms of the disease for those who continue to smoke.  However, I believe there is research to show the opposite is true for UC.  Non smokers and former smokers are more at risk for developing UC than smokers and I believe there is research...\n",
      "- Smoking cigarettes made everything worse.\n",
      "- I have UC and Crohn's. My doctor actually advised me to smoke cigarettes because I have an aversion to living on pain meds. It was really a damned if you do damned if you don't situation. I can't speak for others but it actually has helped me.\n",
      "- I have been diagnosed with Crohns and UC for 12 years. I smoked for 5 years and quit about 2 years ago. I always had to go to the bathroom after smoking, and feel much MUCH better now that I have quit. It also suppresses your appetite, and I think it's hard enough as is to build up an appetite some days.\n",
      "I've also never heard of a doctor \"advising\" someone to smoke. Crohns puts you at a dramatically increased rate for things like colon cancer, so avoiding cigarettes is probably best.\n",
      "I, too, fou...\n",
      "- Same here. I quit for eight months and felt great. Started back up a month ago like a dummy and I feel a flare coming on.\n",
      "- Agreed. THC helped me put on more weight when I was loosing it like crazy and couldn't eat.\n"
     ]
    }
   ],
   "source": [
    "# Ver algunos ejemplos\n",
    "print(IBD_estructured['cuerpo'].iloc[1000])"
   ]
  }
 ],
 "metadata": {
  "kernelspec": {
   "display_name": ".venv",
   "language": "python",
   "name": "python3"
  },
  "language_info": {
   "codemirror_mode": {
    "name": "ipython",
    "version": 3
   },
   "file_extension": ".py",
   "mimetype": "text/x-python",
   "name": "python",
   "nbconvert_exporter": "python",
   "pygments_lexer": "ipython3",
   "version": "3.13.7"
  }
 },
 "nbformat": 4,
 "nbformat_minor": 5
}
