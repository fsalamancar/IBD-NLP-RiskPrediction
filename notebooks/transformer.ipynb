{
 "cells": [
  {
   "cell_type": "code",
   "execution_count": null,
   "id": "c2588324",
   "metadata": {},
   "outputs": [
    {
     "name": "stdout",
     "output_type": "stream",
     "text": [
      "Librerías importadas correctamente.\n"
     ]
    }
   ],
   "source": [
    "# pip install pandas torch transformers scikit-learn matplotlib -q\n",
    "import pandas as pd\n",
    "import numpy as np\n",
    "import torch\n",
    "from transformers import AutoTokenizer, AutoModel\n",
    "from sklearn.model_selection import train_test_split\n",
    "from sklearn.linear_model import LogisticRegression\n",
    "from sklearn.metrics import classification_report, confusion_matrix\n",
    "import seaborn as sns\n",
    "import matplotlib.pyplot as plt\n",
    "\n",
    "print(\"Librerías importadas correctamente.\")"
   ]
  },
  {
   "cell_type": "code",
   "execution_count": null,
   "id": "0e2daa2d",
   "metadata": {},
   "outputs": [
    {
     "name": "stdout",
     "output_type": "stream",
     "text": [
      "✅ Archivo cargado exitosamente.\n",
      "El dataset tiene 183744 filas y 8 columnas.\n"
     ]
    },
    {
     "data": {
      "text/html": [
       "<div>\n",
       "<style scoped>\n",
       "    .dataframe tbody tr th:only-of-type {\n",
       "        vertical-align: middle;\n",
       "    }\n",
       "\n",
       "    .dataframe tbody tr th {\n",
       "        vertical-align: top;\n",
       "    }\n",
       "\n",
       "    .dataframe thead th {\n",
       "        text-align: right;\n",
       "    }\n",
       "</style>\n",
       "<table border=\"1\" class=\"dataframe\">\n",
       "  <thead>\n",
       "    <tr style=\"text-align: right;\">\n",
       "      <th></th>\n",
       "      <th>id</th>\n",
       "      <th>subreddit</th>\n",
       "      <th>author</th>\n",
       "      <th>title</th>\n",
       "      <th>selftext</th>\n",
       "      <th>created_utc</th>\n",
       "      <th>comments</th>\n",
       "      <th>cuerpo</th>\n",
       "    </tr>\n",
       "  </thead>\n",
       "  <tbody>\n",
       "    <tr>\n",
       "      <th>0</th>\n",
       "      <td>dflwn</td>\n",
       "      <td>CrohnsDisease</td>\n",
       "      <td>zakool21</td>\n",
       "      <td>Don't be afraid of diagnostic procedures....</td>\n",
       "      <td>I'm not likely to frontpage this subreddit, bu...</td>\n",
       "      <td>2010-09-18 11:59:11</td>\n",
       "      <td>['I have to agree, the worse part of a Colonos...</td>\n",
       "      <td>TÍTULO:\\nDon't be afraid of diagnostic procedu...</td>\n",
       "    </tr>\n",
       "    <tr>\n",
       "      <th>1</th>\n",
       "      <td>dfyy1</td>\n",
       "      <td>CrohnsDisease</td>\n",
       "      <td>sphinctersayzwha</td>\n",
       "      <td>Mayo Clinic article on Crohn's Disease.</td>\n",
       "      <td>Mayo Clinic article on Crohn's Disease.</td>\n",
       "      <td>2010-09-19 15:11:21</td>\n",
       "      <td>[]</td>\n",
       "      <td>TÍTULO:\\nMayo Clinic article on Crohn's Diseas...</td>\n",
       "    </tr>\n",
       "    <tr>\n",
       "      <th>2</th>\n",
       "      <td>dfz1m</td>\n",
       "      <td>CrohnsDisease</td>\n",
       "      <td>WeDeserveDessert</td>\n",
       "      <td>Has anyone else here taken Remicade?  What did...</td>\n",
       "      <td>Has anyone else here taken Remicade?  What did...</td>\n",
       "      <td>2010-09-19 15:19:54</td>\n",
       "      <td>[\"Remicade (and a bypass) changed my life.  Wh...</td>\n",
       "      <td>TÍTULO:\\nHas anyone else here taken Remicade? ...</td>\n",
       "    </tr>\n",
       "    <tr>\n",
       "      <th>3</th>\n",
       "      <td>dh6zd</td>\n",
       "      <td>CrohnsDisease</td>\n",
       "      <td>RosenTurd</td>\n",
       "      <td>I was Diagnosed With Crohns Disease at age 9 ,...</td>\n",
       "      <td>Like the title Says AMA</td>\n",
       "      <td>2010-09-22 04:50:57</td>\n",
       "      <td>[\"My son was diagnosed at ten. It's hell for h...</td>\n",
       "      <td>TÍTULO:\\nI was Diagnosed With Crohns Disease a...</td>\n",
       "    </tr>\n",
       "    <tr>\n",
       "      <th>4</th>\n",
       "      <td>dhgot</td>\n",
       "      <td>CrohnsDisease</td>\n",
       "      <td>unknownpleasures</td>\n",
       "      <td>Has anyone here had to have bowel surgery more...</td>\n",
       "      <td>I had a small bowel resection and appendectomy...</td>\n",
       "      <td>2010-09-22 18:31:36</td>\n",
       "      <td>[\"I have a story:\\n\\nI had a small bowel resec...</td>\n",
       "      <td>TÍTULO:\\nHas anyone here had to have bowel sur...</td>\n",
       "    </tr>\n",
       "  </tbody>\n",
       "</table>\n",
       "</div>"
      ],
      "text/plain": [
       "      id      subreddit            author  \\\n",
       "0  dflwn  CrohnsDisease          zakool21   \n",
       "1  dfyy1  CrohnsDisease  sphinctersayzwha   \n",
       "2  dfz1m  CrohnsDisease  WeDeserveDessert   \n",
       "3  dh6zd  CrohnsDisease         RosenTurd   \n",
       "4  dhgot  CrohnsDisease  unknownpleasures   \n",
       "\n",
       "                                               title  \\\n",
       "0       Don't be afraid of diagnostic procedures....   \n",
       "1            Mayo Clinic article on Crohn's Disease.   \n",
       "2  Has anyone else here taken Remicade?  What did...   \n",
       "3  I was Diagnosed With Crohns Disease at age 9 ,...   \n",
       "4  Has anyone here had to have bowel surgery more...   \n",
       "\n",
       "                                            selftext          created_utc  \\\n",
       "0  I'm not likely to frontpage this subreddit, bu...  2010-09-18 11:59:11   \n",
       "1            Mayo Clinic article on Crohn's Disease.  2010-09-19 15:11:21   \n",
       "2  Has anyone else here taken Remicade?  What did...  2010-09-19 15:19:54   \n",
       "3                            Like the title Says AMA  2010-09-22 04:50:57   \n",
       "4  I had a small bowel resection and appendectomy...  2010-09-22 18:31:36   \n",
       "\n",
       "                                            comments  \\\n",
       "0  ['I have to agree, the worse part of a Colonos...   \n",
       "1                                                 []   \n",
       "2  [\"Remicade (and a bypass) changed my life.  Wh...   \n",
       "3  [\"My son was diagnosed at ten. It's hell for h...   \n",
       "4  [\"I have a story:\\n\\nI had a small bowel resec...   \n",
       "\n",
       "                                              cuerpo  \n",
       "0  TÍTULO:\\nDon't be afraid of diagnostic procedu...  \n",
       "1  TÍTULO:\\nMayo Clinic article on Crohn's Diseas...  \n",
       "2  TÍTULO:\\nHas anyone else here taken Remicade? ...  \n",
       "3  TÍTULO:\\nI was Diagnosed With Crohns Disease a...  \n",
       "4  TÍTULO:\\nHas anyone here had to have bowel sur...  "
      ]
     },
     "metadata": {},
     "output_type": "display_data"
    }
   ],
   "source": [
    "\n",
    "# Carga de datos\n",
    "file_path = '../../../Downloads/IBD_estructured_text.csv'\n",
    "\n",
    "try:\n",
    "    df = pd.read_csv(file_path)\n",
    "    print(\"Archivo cargado exitosamente.\")\n",
    "    print(f\"El dataset tiene {df.shape[0]} filas y {df.shape[1]} columnas.\")\n",
    "except FileNotFoundError:\n",
    "    print(f\" Error: No se encontró el archivo en la ruta: '{file_path}'\")\n",
    "    print(\"Por favor, verifica la ubicación de tu archivo.\")\n",
    "\n",
    "display(df.head())"
   ]
  },
  {
   "cell_type": "code",
   "execution_count": null,
   "id": "a6c16d99",
   "metadata": {},
   "outputs": [
    {
     "name": "stdout",
     "output_type": "stream",
     "text": [
      "Distribución de la columna 'label' creada:\n",
      "label\n",
      "0    143462\n",
      "1     40282\n",
      "Name: count, dtype: int64\n"
     ]
    }
   ],
   "source": [
    "# procesamiento y creación de etiqueta\n",
    "df['cuerpo'] = \"TÍTULO: \" + df['title'].fillna('') + \"\\\\n\\\\nCONTENIDO: \" + df['selftext'].fillna('')\n",
    "\n",
    "\n",
    "keywords = ['surgery', 'resection', 'ostomy', 'remicade', 'humira', 'biologic', 'fistula']\n",
    "df['label'] = df['cuerpo'].str.contains('|'.join(keywords), case=False, na=False).astype(int)\n",
    "\n",
    "print(\"Distribución de la columna 'label' creada:\")\n",
    "print(df['label'].value_counts())\n"
   ]
  },
  {
   "cell_type": "code",
   "execution_count": null,
   "id": "874bbf84",
   "metadata": {},
   "outputs": [
    {
     "name": "stdout",
     "output_type": "stream",
     "text": [
      "Usando una muestra de 2000 registros para agilizar el proceso.\n",
      "Cargando el tokenizador y el modelo 'dmis-lab/biobert-base-cased-v1.2'... (Esto puede tardar un poco)\n",
      "✅ Tokenizador y modelo cargados.\n"
     ]
    }
   ],
   "source": [
    "# configuración y carga del modelo BERT\n",
    "MODELO_NOMBRE = \"dmis-lab/biobert-base-cased-v1.2\"\n",
    "\n",
    "SAMPLE_SIZE = 2000 \n",
    "\n",
    "if SAMPLE_SIZE:\n",
    "    print(f\"Usando una muestra de {SAMPLE_SIZE} registros para agilizar el proceso.\")\n",
    "    df_sample = df.sample(n=min(SAMPLE_SIZE, len(df)), random_state=42)\n",
    "else:\n",
    "    print(\"Usando el dataset completo.\")\n",
    "    df_sample = df\n",
    "\n",
    "print(f\"Cargando el tokenizador y el modelo '{MODELO_NOMBRE}'... (Esto puede tardar un poco)\")\n",
    "tokenizer = AutoTokenizer.from_pretrained(MODELO_NOMBRE)\n",
    "model = AutoModel.from_pretrained(MODELO_NOMBRE)\n",
    "print(\"✅ Tokenizador y modelo cargados.\")\n"
   ]
  },
  {
   "cell_type": "code",
   "execution_count": null,
   "id": "c1628688",
   "metadata": {},
   "outputs": [
    {
     "name": "stdout",
     "output_type": "stream",
     "text": [
      "Procesando 2000 textos en lotes de 32...\n",
      "  -> Lote 1 procesado.\n",
      "  -> Lote 2 procesado.\n",
      "  -> Lote 3 procesado.\n",
      "  -> Lote 4 procesado.\n",
      "  -> Lote 5 procesado.\n",
      "  -> Lote 6 procesado.\n",
      "  -> Lote 7 procesado.\n",
      "  -> Lote 8 procesado.\n",
      "  -> Lote 9 procesado.\n",
      "  -> Lote 10 procesado.\n",
      "  -> Lote 11 procesado.\n",
      "  -> Lote 12 procesado.\n",
      "  -> Lote 13 procesado.\n",
      "  -> Lote 14 procesado.\n",
      "  -> Lote 15 procesado.\n",
      "  -> Lote 16 procesado.\n",
      "  -> Lote 17 procesado.\n",
      "  -> Lote 18 procesado.\n",
      "  -> Lote 19 procesado.\n",
      "  -> Lote 20 procesado.\n",
      "  -> Lote 21 procesado.\n",
      "  -> Lote 22 procesado.\n",
      "  -> Lote 23 procesado.\n",
      "  -> Lote 24 procesado.\n",
      "  -> Lote 25 procesado.\n",
      "  -> Lote 26 procesado.\n",
      "  -> Lote 27 procesado.\n",
      "  -> Lote 28 procesado.\n",
      "  -> Lote 29 procesado.\n",
      "  -> Lote 30 procesado.\n",
      "  -> Lote 31 procesado.\n",
      "  -> Lote 32 procesado.\n",
      "  -> Lote 33 procesado.\n",
      "  -> Lote 34 procesado.\n",
      "  -> Lote 35 procesado.\n",
      "  -> Lote 36 procesado.\n",
      "  -> Lote 37 procesado.\n",
      "  -> Lote 38 procesado.\n",
      "  -> Lote 39 procesado.\n",
      "  -> Lote 40 procesado.\n",
      "  -> Lote 41 procesado.\n",
      "  -> Lote 42 procesado.\n",
      "  -> Lote 43 procesado.\n",
      "  -> Lote 44 procesado.\n",
      "  -> Lote 45 procesado.\n",
      "  -> Lote 46 procesado.\n",
      "  -> Lote 47 procesado.\n",
      "  -> Lote 48 procesado.\n",
      "  -> Lote 49 procesado.\n",
      "  -> Lote 50 procesado.\n",
      "  -> Lote 51 procesado.\n",
      "  -> Lote 52 procesado.\n",
      "  -> Lote 53 procesado.\n",
      "  -> Lote 54 procesado.\n",
      "  -> Lote 55 procesado.\n",
      "  -> Lote 56 procesado.\n",
      "  -> Lote 57 procesado.\n",
      "  -> Lote 58 procesado.\n",
      "  -> Lote 59 procesado.\n",
      "  -> Lote 60 procesado.\n",
      "  -> Lote 61 procesado.\n",
      "  -> Lote 62 procesado.\n",
      "  -> Lote 63 procesado.\n",
      "\n",
      "✅ ¡Textos transformados en vectores!\n",
      "Dimensiones de la matriz de características: (2000, 768)\n"
     ]
    }
   ],
   "source": [
    "# transformación de texto a vectores embedings por lotes\n",
    "textos = df_sample['cuerpo'].tolist()\n",
    "etiquetas = df_sample['label'].tolist()\n",
    "\n",
    "BATCH_SIZE = 32\n",
    "todos_los_vectores = []\n",
    "\n",
    "print(f\"Procesando {len(textos)} textos en lotes de {BATCH_SIZE}...\")\n",
    "\n",
    "\n",
    "for i in range(0, len(textos), BATCH_SIZE):\n",
    "\n",
    "    lote_textos = textos[i:i + BATCH_SIZE]\n",
    "    \n",
    "\n",
    "    inputs = tokenizer(lote_textos, padding=True, truncation=True, return_tensors=\"pt\", max_length=512)\n",
    "    \n",
    "\n",
    "    with torch.no_grad():\n",
    "        outputs = model(**inputs)\n",
    "    \n",
    "\n",
    "    vectores_lote = outputs.last_hidden_state[:, 0, :].numpy()\n",
    "    todos_los_vectores.append(vectores_lote)\n",
    "    \n",
    "    print(f\"  -> Lote {i // BATCH_SIZE + 1} procesado.\")\n",
    "\n",
    "vectores_bert = np.vstack(todos_los_vectores)\n",
    "\n",
    "print(\"\\n✅ ¡Textos transformados en vectores!\")\n",
    "print(f\"Dimensiones de la matriz de características: {vectores_bert.shape}\")"
   ]
  },
  {
   "cell_type": "code",
   "execution_count": null,
   "id": "0cb0b63a",
   "metadata": {},
   "outputs": [
    {
     "name": "stdout",
     "output_type": "stream",
     "text": [
      "Dividiendo los datos y entrenando el modelo de clasificación...\n",
      "✅ Modelo entrenado y predicciones realizadas.\n"
     ]
    }
   ],
   "source": [
    "# Entrenamiento y evaluacion\n",
    "print(\"Dividiendo los datos y entrenando el modelo de clasificación...\")\n",
    "\n",
    "\n",
    "X_train, X_test, y_train, y_test = train_test_split(\n",
    "    vectores_bert,\n",
    "    etiquetas,\n",
    "    test_size=0.2,\n",
    "    random_state=42,\n",
    "    stratify=etiquetas\n",
    ")\n",
    "\n",
    "\n",
    "classifier = LogisticRegression(max_iter=1000, random_state=42)\n",
    "classifier.fit(X_train, y_train)\n",
    "\n",
    "\n",
    "predictions = classifier.predict(X_test)\n",
    "\n",
    "print(\"Modelo entrenado y predicciones realizadas.\")"
   ]
  },
  {
   "cell_type": "code",
   "execution_count": null,
   "id": "7f64240c",
   "metadata": {},
   "outputs": [
    {
     "name": "stdout",
     "output_type": "stream",
     "text": [
      "\n",
      "--- Reporte de Clasificación Final ---\n",
      "               precision    recall  f1-score   support\n",
      "\n",
      "No Riesgo (0)       0.86      0.94      0.90       315\n",
      "   Riesgo (1)       0.64      0.42      0.51        85\n",
      "\n",
      "     accuracy                           0.83       400\n",
      "    macro avg       0.75      0.68      0.70       400\n",
      " weighted avg       0.81      0.83      0.81       400\n",
      "\n",
      "\n",
      "--- Matriz de Confusión ---\n"
     ]
    },
    {
     "data": {
      "image/png": "[encoded data removed]",
      "text/plain": [
       "<Figure size 600x500 with 2 Axes>"
      ]
     },
     "metadata": {},
     "output_type": "display_data"
    }
   ],
   "source": [
    "# Resultados\n",
    "print(\"\\n--- Reporte de Clasificación Final ---\")\n",
    "print(classification_report(y_test, predictions, target_names=['No Riesgo (0)', 'Riesgo (1)']))\n",
    "\n",
    "print(\"\\n--- Matriz de Confusión ---\")\n",
    "cm = confusion_matrix(y_test, predictions)\n",
    "plt.figure(figsize=(6, 5))\n",
    "sns.heatmap(cm, annot=True, fmt='d', cmap='Blues',\n",
    "            xticklabels=['No Riesgo (0)', 'Riesgo (1)'],\n",
    "            yticklabels=['No Riesgo (0)', 'Riesgo (1)'])\n",
    "plt.ylabel('Etiqueta Real')\n",
    "plt.xlabel('Etiqueta Predicha')\n",
    "plt.title('Matriz de Confusión')\n",
    "plt.show()"
   ]
  },
  {
   "cell_type": "code",
   "execution_count": null,
   "id": "f15434bf",
   "metadata": {},
   "outputs": [],
   "source": [
    "import torch\n",
    "import numpy as np\n",
    "from transformers import AutoTokenizer, AutoModel\n",
    "\n",
    "def obtener_vectores_bert(modelo_nombre, textos, batch_size=16):\n",
    "    \"\"\"\n",
    "    Función que toma el nombre de un modelo de Hugging Face y una lista de textos,\n",
    "    y devuelve una matriz de vectores (embeddings) generados por el modelo.\n",
    "    \"\"\"\n",
    "    # 1. Cargar el tokenizador y el modelo específico\n",
    "    print(f\"\\nCargando modelo: {modelo_nombre}...\")\n",
    "    tokenizer = AutoTokenizer.from_pretrained(modelo_nombre)\n",
    "    model = AutoModel.from_pretrained(modelo_nombre)\n",
    "    print(\"✅ Modelo cargado.\")\n",
    "\n",
    "    todos_los_vectores = []\n",
    "    print(f\"Procesando {len(textos)} textos en lotes de {batch_size}...\")\n",
    "    \n",
    "    for i in range(0, len(textos), batch_size):\n",
    "        lote_textos = textos[i:i + batch_size]\n",
    "\n",
    "        inputs = tokenizer(lote_textos, padding=True, truncation=True, return_tensors=\"pt\", max_length=512)\n",
    "        \n",
    "\n",
    "        with torch.no_grad():\n",
    "            outputs = model(**inputs)\n",
    "        \n",
    "\n",
    "        vectores_lote = outputs.last_hidden_state[:, 0, :].cpu().numpy()\n",
    "        todos_los_vectores.append(vectores_lote)\n",
    "\n",
    "\n",
    "    vectores_finales = np.vstack(todos_los_vectores)\n",
    "    print(f\"✅ Vectorización completada para {modelo_nombre}. Forma de la matriz: {vectores_finales.shape}\")\n",
    "    \n",
    "    return vectores_finales"
   ]
  },
  {
   "cell_type": "code",
   "execution_count": null,
   "id": "a7f3a4a8",
   "metadata": {},
   "outputs": [
    {
     "name": "stdout",
     "output_type": "stream",
     "text": [
      "\n",
      "Cargando modelo: dmis-lab/biobert-base-cased-v1.2...\n",
      "✅ Modelo cargado.\n",
      "Procesando 2000 textos en lotes de 16...\n",
      "✅ Vectorización completada para dmis-lab/biobert-base-cased-v1.2. Forma de la matriz: (2000, 768)\n",
      "\n",
      "Cargando modelo: bert-base-uncased...\n"
     ]
    },
    {
     "data": {
      "application/vnd.jupyter.widget-view+json": {
       "model_id": "6c52bc97caf44664a87534d104115a39",
       "version_major": 2,
       "version_minor": 0
      },
      "text/plain": [
       "tokenizer_config.json:   0%|          | 0.00/48.0 [00:00<?, ?B/s]"
      ]
     },
     "metadata": {},
     "output_type": "display_data"
    },
    {
     "name": "stderr",
     "output_type": "stream",
     "text": [
      "huggingface/tokenizers: The current process just got forked, after parallelism has already been used. Disabling parallelism to avoid deadlocks...\n",
      "To disable this warning, you can either:\n",
      "\t- Avoid using `tokenizers` before the fork if possible\n",
      "\t- Explicitly set the environment variable TOKENIZERS_PARALLELISM=(true | false)\n"
     ]
    },
    {
     "data": {
      "application/vnd.jupyter.widget-view+json": {
       "model_id": "23aa64ae8e8a4251bf7e01eee89ebbf2",
       "version_major": 2,
       "version_minor": 0
      },
      "text/plain": [
       "config.json:   0%|          | 0.00/570 [00:00<?, ?B/s]"
      ]
     },
     "metadata": {},
     "output_type": "display_data"
    },
    {
     "data": {
      "application/vnd.jupyter.widget-view+json": {
       "model_id": "a6d2f58f6cf747918e5f7f1fc2b002f2",
       "version_major": 2,
       "version_minor": 0
      },
      "text/plain": [
       "vocab.txt:   0%|          | 0.00/232k [00:00<?, ?B/s]"
      ]
     },
     "metadata": {},
     "output_type": "display_data"
    },
    {
     "data": {
      "application/vnd.jupyter.widget-view+json": {
       "model_id": "9c623f6434b243f39ccbee60d9e0f93f",
       "version_major": 2,
       "version_minor": 0
      },
      "text/plain": [
       "tokenizer.json:   0%|          | 0.00/466k [00:00<?, ?B/s]"
      ]
     },
     "metadata": {},
     "output_type": "display_data"
    },
    {
     "data": {
      "application/vnd.jupyter.widget-view+json": {
       "model_id": "e3c797548e344b2384e4767b8da176ca",
       "version_major": 2,
       "version_minor": 0
      },
      "text/plain": [
       "model.safetensors:   0%|          | 0.00/440M [00:00<?, ?B/s]"
      ]
     },
     "metadata": {},
     "output_type": "display_data"
    },
    {
     "name": "stdout",
     "output_type": "stream",
     "text": [
      "✅ Modelo cargado.\n",
      "Procesando 2000 textos en lotes de 16...\n",
      "✅ Vectorización completada para bert-base-uncased. Forma de la matriz: (2000, 768)\n"
     ]
    }
   ],
   "source": [
    "# Compáracion de  bert y biobert\n",
    "MODELO_BIOBERT = \"dmis-lab/biobert-base-cased-v1.2\"\n",
    "MODELO_BERT_GENERAL = \"bert-base-uncased\"\n",
    "\n",
    "\n",
    "textos_muestra = df_sample['cuerpo'].tolist()\n",
    "etiquetas_muestra = df_sample['label'].tolist()\n",
    "\n",
    "# --- Generar vectores con BioBERT ---\n",
    "vectores_biobert = obtener_vectores_bert(MODELO_BIOBERT, textos_muestra)\n",
    "\n",
    "# --- Generar vectores con BERT General ---\n",
    "vectores_bert_general = obtener_vectores_bert(MODELO_BERT_GENERAL, textos_muestra)"
   ]
  },
  {
   "cell_type": "code",
   "execution_count": 14,
   "id": "c62fed7c",
   "metadata": {},
   "outputs": [
    {
     "name": "stdout",
     "output_type": "stream",
     "text": [
      "\n",
      "==================================================\n",
      "---BioBERT ---\n",
      "==================================================\n",
      "               precision    recall  f1-score   support\n",
      "\n",
      "No Riesgo (0)       0.86      0.94      0.90       315\n",
      "   Riesgo (1)       0.67      0.44      0.53        85\n",
      "\n",
      "     accuracy                           0.83       400\n",
      "    macro avg       0.77      0.69      0.71       400\n",
      " weighted avg       0.82      0.83      0.82       400\n",
      "\n",
      "\n",
      "==================================================\n",
      "---  BERT General ---\n",
      "==================================================\n",
      "               precision    recall  f1-score   support\n",
      "\n",
      "No Riesgo (0)       0.86      0.93      0.89       315\n",
      "   Riesgo (1)       0.62      0.42      0.50        85\n",
      "\n",
      "     accuracy                           0.82       400\n",
      "    macro avg       0.74      0.68      0.70       400\n",
      " weighted avg       0.81      0.82      0.81       400\n",
      "\n"
     ]
    }
   ],
   "source": [
    "from sklearn.model_selection import train_test_split\n",
    "from sklearn.linear_model import LogisticRegression\n",
    "from sklearn.metrics import classification_report\n",
    "\n",
    "# --- CLASIFICADOR 1: ENTRENADO CON VECTORES DE BIOBERT ---\n",
    "print(\"\\n\" + \"=\"*50)\n",
    "print(\"---BioBERT ---\")\n",
    "print(\"=\"*50)\n",
    "\n",
    "X_train_bio, X_test_bio, y_train, y_test = train_test_split(\n",
    "    vectores_biobert, etiquetas_muestra, test_size=0.2, random_state=42, stratify=etiquetas_muestra\n",
    ")\n",
    "\n",
    "classifier_bio = LogisticRegression(max_iter=1000)\n",
    "classifier_bio.fit(X_train_bio, y_train)\n",
    "predictions_bio = classifier_bio.predict(X_test_bio)\n",
    "\n",
    "print(classification_report(y_test, predictions_bio, target_names=['No Riesgo (0)', 'Riesgo (1)']))\n",
    "\n",
    "\n",
    "# --- CLASIFICADOR 2: ENTRENADO CON VECTORES DE BERT GENERAL ---\n",
    "print(\"\\n\" + \"=\"*50)\n",
    "print(\"---  BERT General ---\")\n",
    "print(\"=\"*50)\n",
    "\n",
    "X_train_gen, X_test_gen, y_train, y_test = train_test_split(\n",
    "    vectores_bert_general, etiquetas_muestra, test_size=0.2, random_state=42, stratify=etiquetas_muestra\n",
    ")\n",
    "\n",
    "classifier_gen = LogisticRegression(max_iter=1000)\n",
    "classifier_gen.fit(X_train_gen, y_train)\n",
    "predictions_gen = classifier_gen.predict(X_test_gen)\n",
    "\n",
    "print(classification_report(y_test, predictions_gen, target_names=['No Riesgo (0)', 'Riesgo (1)']))"
   ]
  }
 ],
 "metadata": {
  "kernelspec": {
   "display_name": "Python 3",
   "language": "python",
   "name": "python3"
  },
  "language_info": {
   "codemirror_mode": {
    "name": "ipython",
    "version": 3
   },
   "file_extension": ".py",
   "mimetype": "text/x-python",
   "name": "python",
   "nbconvert_exporter": "python",
   "pygments_lexer": "ipython3",
   "version": "3.11.9"
  }
 },
 "nbformat": 4,
 "nbformat_minor": 5
}
